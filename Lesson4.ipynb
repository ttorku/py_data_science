{
 "cells": [
  {
   "cell_type": "markdown",
   "metadata": {},
   "source": [
    "#### Excellent Tutorials Series (ETS)\n",
    "#### Author: Thomas K Torku\n",
    "#### Topic: Overview "
   ]
  },
  {
   "cell_type": "markdown",
   "metadata": {},
   "source": [
    "#### If Statements"
   ]
  },
  {
   "cell_type": "markdown",
   "metadata": {},
   "source": [
    "- `If statements:` They are used to create decision structure\n",
    "- `Control Structure:` Logical design that controls the order in which a set of statements are executed.\n",
    "- `Sequence Structure:` Is a set of statements that execute in the order which they appear \n",
    "- `Bolean Expressions:` Can be used as a relational operators\n",
    "- `x>y   x<y  x>=y  x<=y x==y x!=y`: Bolean expressions"
   ]
  },
  {
   "cell_type": "code",
   "execution_count": 1,
   "metadata": {},
   "outputs": [
    {
     "data": {
      "text/plain": [
       "False"
      ]
     },
     "execution_count": 1,
     "metadata": {},
     "output_type": "execute_result"
    }
   ],
   "source": [
    "x=1   #assignment operator  x=1, x==1\n",
    "y=5\n",
    "z =10\n",
    "x==y"
   ]
  },
  {
   "cell_type": "code",
   "execution_count": 3,
   "metadata": {},
   "outputs": [
    {
     "data": {
      "text/plain": [
       "True"
      ]
     },
     "execution_count": 3,
     "metadata": {},
     "output_type": "execute_result"
    }
   ],
   "source": [
    "z!=y   #not-equal to operator"
   ]
  },
  {
   "cell_type": "code",
   "execution_count": 6,
   "metadata": {},
   "outputs": [
    {
     "name": "stdout",
     "output_type": "stream",
     "text": [
      "You met your sales quota\n"
     ]
    }
   ],
   "source": [
    "sales =100\n",
    "if sales>300:\n",
    "    bonus =30\n",
    "    commisio_rate=0.12\n",
    "print('You met your sales quota')"
   ]
  },
  {
   "cell_type": "code",
   "execution_count": 8,
   "metadata": {},
   "outputs": [
    {
     "name": "stdin",
     "output_type": "stream",
     "text": [
      "Enter your test 1 score:  98\n",
      "Enter your test 2 score:  98\n",
      "Enter your test 3 score:  100\n"
     ]
    },
    {
     "name": "stdout",
     "output_type": "stream",
     "text": [
      "The average score is 98.67\n",
      "CONGRATULATIONS\n"
     ]
    }
   ],
   "source": [
    "high_score =95\n",
    "t1 =int(input('Enter your test 1 score: '))\n",
    "t2 =int(input('Enter your test 2 score: '))\n",
    "t3 =int(input('Enter your test 3 score: '))\n",
    "average =(t1+t2+t3)/3\n",
    "#print the average\n",
    "print('The average score is {:.2f}'.format(average))\n",
    "if average >=high_score:\n",
    "    print('CONGRATULATIONS')"
   ]
  },
  {
   "cell_type": "code",
   "execution_count": 12,
   "metadata": {},
   "outputs": [
    {
     "name": "stdin",
     "output_type": "stream",
     "text": [
      "Enter the number of hours:  45\n",
      "Enter the hourly rate:  250\n"
     ]
    },
    {
     "name": "stdout",
     "output_type": "stream",
     "text": [
      "The gross pay is $11,875.00\n"
     ]
    }
   ],
   "source": [
    "base_hr =40\n",
    "ot =1.5\n",
    "hours =float(input('Enter the number of hours: '))\n",
    "pay_rate =float(input('Enter the hourly rate: '))\n",
    "if hours> base_hr:\n",
    "    o_v_hr =hours-base_hr\n",
    "    o_p =o_v_hr*pay_rate*ot\n",
    "    gross_pay =base_hr*pay_rate +o_p\n",
    "else:\n",
    "    gross_pay =hours*pay_rate\n",
    "print('The gross pay is $', format(gross_pay,',.2f' ), sep='')"
   ]
  },
  {
   "cell_type": "code",
   "execution_count": 24,
   "metadata": {},
   "outputs": [
    {
     "name": "stdout",
     "output_type": "stream",
     "text": [
      "Rectangles have the same area\n"
     ]
    },
    {
     "data": {
      "text/plain": [
       "(12, 12)"
      ]
     },
     "execution_count": 24,
     "metadata": {},
     "output_type": "execute_result"
    }
   ],
   "source": [
    "def two_rec(l1,w1, l2,w2):\n",
    "    \"\"\"\n",
    "    A program that asks the user to tell which rectangle is greater\n",
    "    \"\"\"\n",
    "    rec1 =l1*w1\n",
    "    rec2 =l2*w2\n",
    "    if rec1 >rec2:\n",
    "        print('Rectangle 1 has the greater area')\n",
    "    else:\n",
    "        if rec2>rec1:\n",
    "            print('Rectangle 2 has the greater area')\n",
    "        else:\n",
    "            print('Rectangles have the same area')\n",
    "    return rec1, rec2\n",
    "two_rec(4,3, 4,3)   "
   ]
  },
  {
   "cell_type": "code",
   "execution_count": 3,
   "metadata": {},
   "outputs": [
    {
     "name": "stdout",
     "output_type": "stream",
     "text": [
      "They are the same\n"
     ]
    }
   ],
   "source": [
    "def rec1(l1,w1):\n",
    "    area1 =l1*w1\n",
    "    return area1\n",
    "def rec2(l2,w2):\n",
    "    area2 =l2*w2\n",
    "    return area2\n",
    "a1 =rec1(3,4)\n",
    "a2 =rec2(3,4)\n",
    "if a1>a2:\n",
    "    print('Rec 1 has greater area')\n",
    "else:\n",
    "    if a1<a2:\n",
    "        print('Rec 2 has greater area')\n",
    "    else:\n",
    "        print('They are the same')"
   ]
  },
  {
   "cell_type": "markdown",
   "metadata": {},
   "source": [
    "### If.. elif..else statement\n",
    "\n",
    "This is used when several conditions are involved in the program."
   ]
  },
  {
   "cell_type": "code",
   "execution_count": 1,
   "metadata": {},
   "outputs": [],
   "source": [
    "## Test score\n",
    "## 90 and above   A\n",
    "## 80-89          B\n",
    "## 70-79          C\n",
    "## 60-69          D\n",
    "## Below 60      F"
   ]
  },
  {
   "cell_type": "code",
   "execution_count": 1,
   "metadata": {},
   "outputs": [],
   "source": [
    "def letter_grade(points):\n",
    "    print('You entered ', points)\n",
    "    if points >=90:\n",
    "        print('Your grade is A')\n",
    "    else:\n",
    "        if points >=80:\n",
    "            print('Your grade is B')\n",
    "        else:\n",
    "            if points >=70:\n",
    "                print('Your grade  is C')\n",
    "            else:\n",
    "                if points >=60:\n",
    "                    print('Your grade is D')\n",
    "                else:\n",
    "                    print('Your grade is F')\n",
    "    return points\n",
    "        "
   ]
  },
  {
   "cell_type": "code",
   "execution_count": 3,
   "metadata": {},
   "outputs": [
    {
     "name": "stdout",
     "output_type": "stream",
     "text": [
      "You entered  71.5\n",
      "Your grade  is C\n"
     ]
    },
    {
     "data": {
      "text/plain": [
       "71.5"
      ]
     },
     "execution_count": 3,
     "metadata": {},
     "output_type": "execute_result"
    }
   ],
   "source": [
    "letter_grade(71.5)"
   ]
  },
  {
   "cell_type": "code",
   "execution_count": 10,
   "metadata": {},
   "outputs": [],
   "source": [
    "def letter_grade1(points):\n",
    "    \"\"\"\n",
    "    A function that takes the score from the user\n",
    "    and returns the associated grade\n",
    "    \"\"\"\n",
    "    print('You entered,', points)\n",
    "    if points >=90:\n",
    "        print('Your grade is A')\n",
    "    elif points>=80:\n",
    "        print('Your grade is B')\n",
    "    elif points>=70:\n",
    "        print('Your grade is C')\n",
    "    elif points >=60:\n",
    "        print('Your grade is D')\n",
    "    else:\n",
    "        print('Your grade is F')\n",
    "    return points"
   ]
  },
  {
   "cell_type": "code",
   "execution_count": 13,
   "metadata": {},
   "outputs": [
    {
     "name": "stdout",
     "output_type": "stream",
     "text": [
      "You entered, 89.5\n",
      "Your grade is B\n"
     ]
    },
    {
     "data": {
      "text/plain": [
       "89.5"
      ]
     },
     "execution_count": 13,
     "metadata": {},
     "output_type": "execute_result"
    }
   ],
   "source": [
    "letter_grade1(89.5)"
   ]
  },
  {
   "cell_type": "code",
   "execution_count": null,
   "metadata": {},
   "outputs": [],
   "source": [
    "#Age classifier Program"
   ]
  },
  {
   "cell_type": "code",
   "execution_count": null,
   "metadata": {},
   "outputs": [],
   "source": []
  },
  {
   "cell_type": "code",
   "execution_count": 1,
   "metadata": {},
   "outputs": [],
   "source": [
    "def max_two_val(val1, val2):\n",
    "    if type(val1) ==float and type(val2) ==float:\n",
    "        print('Wrongly entered values')\n",
    "    elif (val1>val2):\n",
    "        print('The greater value of {:d} and {:d} is {:d}'.format(val1, val2, val1))\n",
    "    elif (val2>val1):\n",
    "        print('The greater value of {:d} and {:d} is {:d}'.format(val1, val2, val2) )\n",
    "    else:\n",
    "        print('They are same')\n",
    "    return val1, val2\n",
    "        "
   ]
  },
  {
   "cell_type": "code",
   "execution_count": 2,
   "metadata": {},
   "outputs": [
    {
     "name": "stdout",
     "output_type": "stream",
     "text": [
      "The greater value of 7 and 12 is 12\n"
     ]
    },
    {
     "data": {
      "text/plain": [
       "(7, 12)"
      ]
     },
     "execution_count": 2,
     "metadata": {},
     "output_type": "execute_result"
    }
   ],
   "source": [
    "max_two_val(7,12)"
   ]
  },
  {
   "cell_type": "code",
   "execution_count": 3,
   "metadata": {},
   "outputs": [
    {
     "name": "stdout",
     "output_type": "stream",
     "text": [
      "The greater value of 12 and 7 is 12\n"
     ]
    },
    {
     "data": {
      "text/plain": [
       "(12, 7)"
      ]
     },
     "execution_count": 3,
     "metadata": {},
     "output_type": "execute_result"
    }
   ],
   "source": [
    "max_two_val(12, 7)"
   ]
  },
  {
   "cell_type": "code",
   "execution_count": 4,
   "metadata": {},
   "outputs": [
    {
     "name": "stdout",
     "output_type": "stream",
     "text": [
      "Wrongly entered values\n"
     ]
    },
    {
     "data": {
      "text/plain": [
       "(3.2, 3.5)"
      ]
     },
     "execution_count": 4,
     "metadata": {},
     "output_type": "execute_result"
    }
   ],
   "source": [
    "max_two_val(3.2, 3.5)"
   ]
  },
  {
   "cell_type": "code",
   "execution_count": null,
   "metadata": {},
   "outputs": [],
   "source": []
  }
 ],
 "metadata": {
  "kernelspec": {
   "display_name": "Python 3",
   "language": "python",
   "name": "python3"
  },
  "language_info": {
   "codemirror_mode": {
    "name": "ipython",
    "version": 3
   },
   "file_extension": ".py",
   "mimetype": "text/x-python",
   "name": "python",
   "nbconvert_exporter": "python",
   "pygments_lexer": "ipython3",
   "version": "3.8.5"
  }
 },
 "nbformat": 4,
 "nbformat_minor": 4
}

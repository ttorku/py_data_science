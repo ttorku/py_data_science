{
 "cells": [
  {
   "cell_type": "markdown",
   "metadata": {},
   "source": [
    "#### Excellent Tutorials Series (ETS)\n",
    "#### Author: Thomas K Torku\n",
    "#### Topic: Overview "
   ]
  },
  {
   "cell_type": "markdown",
   "metadata": {},
   "source": [
    "#### Simple Functions"
   ]
  },
  {
   "cell_type": "markdown",
   "metadata": {},
   "source": [
    "**`A function`:** A functions a group of statements that exist within a program for the purpose of performing a specific task.\n",
    "- Benefits of using Functions\n",
    " - Simpler code\n",
    " - code reuse\n",
    " - Better Testing\n",
    " - Faster Development"
   ]
  },
  {
   "cell_type": "markdown",
   "metadata": {},
   "source": [
    "### Defining and Calling Function"
   ]
  },
  {
   "cell_type": "code",
   "execution_count": 13,
   "metadata": {},
   "outputs": [
    {
     "name": "stdout",
     "output_type": "stream",
     "text": [
      " My name is Thomas\n"
     ]
    }
   ],
   "source": [
    "def message():\n",
    "    print(' My name is Thomas')\n",
    "#Call it\n",
    "message()"
   ]
  },
  {
   "cell_type": "markdown",
   "metadata": {},
   "source": [
    "- Functions have two parts\n",
    "   - `main function:` :calls other function\n",
    "   - `other functions`\n",
    "- Python makes use of a top-down approach to solving problems.\n",
    "- `Local Variables:` It is created inside a function and cannot be accessed by statements outside"
   ]
  },
  {
   "cell_type": "code",
   "execution_count": 14,
   "metadata": {},
   "outputs": [],
   "source": [
    "def main():\n",
    "#     print('I have a message for you')\n",
    "    message()\n",
    "    win_team()\n",
    "    loss_team()\n",
    "        \n",
    "def message():\n",
    "    print('This is Python program for practice')\n",
    "def win_team():\n",
    "    print('NPP won')\n",
    "def loss_team():\n",
    "    print('JM has lost')\n",
    "    "
   ]
  },
  {
   "cell_type": "code",
   "execution_count": 17,
   "metadata": {},
   "outputs": [
    {
     "name": "stdout",
     "output_type": "stream",
     "text": [
      "I have a message for you\n",
      "This is Python program for practice\n",
      "NPP won\n",
      "JM has lost\n"
     ]
    }
   ],
   "source": [
    "main()"
   ]
  },
  {
   "cell_type": "code",
   "execution_count": 18,
   "metadata": {},
   "outputs": [
    {
     "name": "stdout",
     "output_type": "stream",
     "text": [
      "This is Python program for practice\n"
     ]
    }
   ],
   "source": [
    "message()"
   ]
  },
  {
   "cell_type": "code",
   "execution_count": 8,
   "metadata": {},
   "outputs": [
    {
     "name": "stdin",
     "output_type": "stream",
     "text": [
      "Enter your name:  THOMAS Kofi Torku\n"
     ]
    },
    {
     "name": "stdout",
     "output_type": "stream",
     "text": [
      "Hello THOMAS Kofi Torku\n"
     ]
    }
   ],
   "source": [
    "#Write a function that displays your name\n",
    "def main():\n",
    "    get_name()\n",
    "#     print()\n",
    "    \n",
    "    \n",
    "    \n",
    "def get_name():\n",
    "    name =input('Enter your name: ')\n",
    "    print('Hello {}'.format(name))\n",
    "main()"
   ]
  },
  {
   "cell_type": "code",
   "execution_count": 19,
   "metadata": {},
   "outputs": [
    {
     "name": "stdout",
     "output_type": "stream",
     "text": [
      "Texas has 500\n",
      "California has 700\n"
     ]
    }
   ],
   "source": [
    "#Write a program to demonstrates two functions have the same\n",
    "#local variables with same name\n",
    "def main():\n",
    "    texas()\n",
    "    california()\n",
    "    \n",
    "    \n",
    "def texas():\n",
    "    birds =500\n",
    "    print('Texas has {}'.format(birds))\n",
    "\n",
    "\n",
    "def california():\n",
    "    birds =700\n",
    "    print('California has {}'.format(birds))\n",
    "main()"
   ]
  },
  {
   "cell_type": "code",
   "execution_count": 20,
   "metadata": {},
   "outputs": [
    {
     "name": "stdout",
     "output_type": "stream",
     "text": [
      "California has 700\n"
     ]
    }
   ],
   "source": [
    "california()"
   ]
  },
  {
   "cell_type": "markdown",
   "metadata": {},
   "source": [
    "### Passing Arguments Through Functions"
   ]
  },
  {
   "cell_type": "code",
   "execution_count": 21,
   "metadata": {},
   "outputs": [
    {
     "name": "stdout",
     "output_type": "stream",
     "text": [
      "The double value is 20\n"
     ]
    }
   ],
   "source": [
    "#A program that displays the double of the value\n",
    "def main():\n",
    "    double_value(10)\n",
    "       \n",
    "def double_value(value):\n",
    "    ans =value*2\n",
    "    print('The double value is {:d}'.format(ans))\n",
    "main()"
   ]
  },
  {
   "cell_type": "code",
   "execution_count": 22,
   "metadata": {},
   "outputs": [
    {
     "name": "stdout",
     "output_type": "stream",
     "text": [
      "The double value is 80\n"
     ]
    }
   ],
   "source": [
    "double_value(40)"
   ]
  },
  {
   "cell_type": "code",
   "execution_count": 23,
   "metadata": {},
   "outputs": [
    {
     "name": "stdout",
     "output_type": "stream",
     "text": [
      "The double value is 180\n"
     ]
    }
   ],
   "source": [
    "double_value(90)"
   ]
  },
  {
   "cell_type": "code",
   "execution_count": 24,
   "metadata": {},
   "outputs": [],
   "source": [
    "#write function to show the sum of two numbers displayed\n"
   ]
  },
  {
   "cell_type": "code",
   "execution_count": 25,
   "metadata": {},
   "outputs": [
    {
     "name": "stdout",
     "output_type": "stream",
     "text": [
      "The double value is 20\n"
     ]
    }
   ],
   "source": [
    "value =10\n",
    "double_value(value)"
   ]
  },
  {
   "cell_type": "code",
   "execution_count": null,
   "metadata": {},
   "outputs": [],
   "source": [
    "#Write a function to display the amount of simple interest"
   ]
  },
  {
   "cell_type": "code",
   "execution_count": null,
   "metadata": {},
   "outputs": [],
   "source": []
  },
  {
   "cell_type": "code",
   "execution_count": null,
   "metadata": {},
   "outputs": [],
   "source": [
    "#write a program that asks the user to enter distance in kilometers and then converts that distance to miles\n",
    "# The conversion formula is miles =kilometers *0.6214"
   ]
  },
  {
   "cell_type": "code",
   "execution_count": 35,
   "metadata": {},
   "outputs": [],
   "source": [
    "# def main():\n",
    "#     distance()\n",
    "#     convert()\n",
    "\n",
    "def distance():\n",
    "    question =float(input('Distance in km'))\n",
    "    return question\n",
    "#     print(question)\n",
    "# distance()\n",
    "def convert():\n",
    "    question =distance()\n",
    "    con =question*0.6214\n",
    "    print('Distance in miles{:.3f}'.format(con))\n",
    "# convert()"
   ]
  },
  {
   "cell_type": "code",
   "execution_count": 36,
   "metadata": {},
   "outputs": [
    {
     "name": "stdin",
     "output_type": "stream",
     "text": [
      "Distance in km 346\n"
     ]
    },
    {
     "data": {
      "text/plain": [
       "346.0"
      ]
     },
     "execution_count": 36,
     "metadata": {},
     "output_type": "execute_result"
    }
   ],
   "source": [
    "distance()"
   ]
  },
  {
   "cell_type": "code",
   "execution_count": 37,
   "metadata": {},
   "outputs": [
    {
     "name": "stdin",
     "output_type": "stream",
     "text": [
      "Distance in km 346\n"
     ]
    },
    {
     "name": "stdout",
     "output_type": "stream",
     "text": [
      "Distance in miles215.004\n"
     ]
    }
   ],
   "source": [
    "convert()"
   ]
  },
  {
   "cell_type": "code",
   "execution_count": null,
   "metadata": {},
   "outputs": [],
   "source": [
    "## write a program that calculates and displays a person's body mass index (BMI). \n",
    "#The formula is BMI=weight*703/(heights)^2\n",
    "#where weight is measured in pounds and height is measured "
   ]
  },
  {
   "cell_type": "code",
   "execution_count": 38,
   "metadata": {},
   "outputs": [],
   "source": [
    "def bmi(w,h):\n",
    "    b =w*703/(h**2)\n",
    "    print('Your body mass index is {:.2f}'.format(b))"
   ]
  },
  {
   "cell_type": "code",
   "execution_count": 39,
   "metadata": {},
   "outputs": [
    {
     "name": "stdout",
     "output_type": "stream",
     "text": [
      "Your body mass index is 2625.40\n"
     ]
    }
   ],
   "source": [
    "bmi(130, 5.9)"
   ]
  },
  {
   "cell_type": "code",
   "execution_count": 40,
   "metadata": {},
   "outputs": [
    {
     "name": "stdout",
     "output_type": "stream",
     "text": [
      "Your body mass index is 4054.21\n"
     ]
    }
   ],
   "source": [
    "bmi(150, 5.1)"
   ]
  },
  {
   "cell_type": "markdown",
   "metadata": {},
   "source": [
    "### Value Returning Functions and Modules"
   ]
  },
  {
   "cell_type": "markdown",
   "metadata": {},
   "source": [
    "- `Value Returning Functions`: Returns the value of the functions after call is made\n",
    "- `Modules`: They are collection of functions"
   ]
  },
  {
   "cell_type": "code",
   "execution_count": 4,
   "metadata": {},
   "outputs": [],
   "source": [
    "import random"
   ]
  },
  {
   "cell_type": "code",
   "execution_count": 9,
   "metadata": {},
   "outputs": [
    {
     "data": {
      "text/plain": [
       "8"
      ]
     },
     "execution_count": 9,
     "metadata": {},
     "output_type": "execute_result"
    }
   ],
   "source": [
    "ran_no =random.randint(0,10)\n",
    "ran_no"
   ]
  },
  {
   "cell_type": "code",
   "execution_count": 15,
   "metadata": {},
   "outputs": [
    {
     "name": "stdout",
     "output_type": "stream",
     "text": [
      "[7, 1, 0, 1, 9, 0, 10, 1, 1, 5]\n"
     ]
    }
   ],
   "source": [
    "random.seed(1234)\n",
    "n=10\n",
    "arr=[]\n",
    "for i in range(n):\n",
    "    arr_i= random.randint(0,10)\n",
    "    arr.append(arr_i)\n",
    "print(arr)   "
   ]
  },
  {
   "cell_type": "code",
   "execution_count": 27,
   "metadata": {},
   "outputs": [
    {
     "name": "stdout",
     "output_type": "stream",
     "text": [
      "The retail price is: 21.22\n",
      "The retail price is: 32.83\n",
      "The retail price is: 64.50\n",
      "The retail price is: 90.89\n"
     ]
    }
   ],
   "source": [
    "%timeit\n",
    "def retail_price(sales, dis):\n",
    "    \"\"\"\n",
    "    This program calculates the retail price of sales\n",
    "    \"\"\"\n",
    "    retail =[]\n",
    "    n =len(sales)\n",
    "    p_ded =1-dis\n",
    "    for i in range(n):\n",
    "        retail.append(p_ded*sales[i])\n",
    "        print('The retail price is: {:.2f}'.format(retail[i]))\n",
    "    return retail\n",
    "r=retail_price([22.34, 34.56, 67.89, 95.67], 0.05)"
   ]
  },
  {
   "cell_type": "code",
   "execution_count": null,
   "metadata": {},
   "outputs": [],
   "source": [
    "## write  a program that ask the user to enter the ages of herself and her best and calculate\n",
    "## the sum of their ages and average of their ages. "
   ]
  },
  {
   "cell_type": "code",
   "execution_count": null,
   "metadata": {},
   "outputs": [],
   "source": [
    "### write two functions that calculates the area and perimeter of rectangle"
   ]
  },
  {
   "cell_type": "code",
   "execution_count": null,
   "metadata": {},
   "outputs": [],
   "source": []
  }
 ],
 "metadata": {
  "kernelspec": {
   "display_name": "Python 3",
   "language": "python",
   "name": "python3"
  },
  "language_info": {
   "codemirror_mode": {
    "name": "ipython",
    "version": 3
   },
   "file_extension": ".py",
   "mimetype": "text/x-python",
   "name": "python",
   "nbconvert_exporter": "python",
   "pygments_lexer": "ipython3",
   "version": "3.8.5"
  }
 },
 "nbformat": 4,
 "nbformat_minor": 4
}

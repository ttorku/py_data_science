{
 "cells": [
  {
   "cell_type": "markdown",
   "metadata": {},
   "source": [
    "#### Excellent Tutorials Series (ETS)\n",
    "#### Author: Thomas K Torku\n",
    "#### Topic: Overview "
   ]
  },
  {
   "cell_type": "markdown",
   "metadata": {},
   "source": [
    "### Data Structures\n",
    "- `Lists`: ex. [1,2,3,4] It is an object that contains data items. Lists are mutable-they can change during the program execution. Items can be added or remove from it. They are dynamic data structures. They are one-dimension\n",
    "- `Arrays`: They can take from 0 -n dimension \n",
    "- `Dictionary`: They contain keys and values as data structures\n",
    "- `Tuples`: They are not mutable."
   ]
  },
  {
   "cell_type": "code",
   "execution_count": 1,
   "metadata": {},
   "outputs": [
    {
     "name": "stdout",
     "output_type": "stream",
     "text": [
      "[1, 2, 3, 4]\n"
     ]
    }
   ],
   "source": [
    "## Lists\n",
    "myList =[1,2,3,4]\n",
    "print(myList)"
   ]
  },
  {
   "cell_type": "markdown",
   "metadata": {},
   "source": [
    "### Slicing"
   ]
  },
  {
   "cell_type": "code",
   "execution_count": 2,
   "metadata": {},
   "outputs": [
    {
     "data": {
      "text/plain": [
       "[5, 10]"
      ]
     },
     "execution_count": 2,
     "metadata": {},
     "output_type": "execute_result"
    }
   ],
   "source": [
    "num =['5,10,15,20]\n",
    "num[0:2]'"
   ]
  },
  {
   "cell_type": "code",
   "execution_count": 3,
   "metadata": {},
   "outputs": [
    {
     "data": {
      "text/plain": [
       "[1, 1, 1, 1, 1, 1, 1, 1, 1, 1]"
      ]
     },
     "execution_count": 3,
     "metadata": {},
     "output_type": "execute_result"
    }
   ],
   "source": [
    "num1 =[1]*10\n",
    "num1\n",
    "# num1"
   ]
  },
  {
   "cell_type": "code",
   "execution_count": 4,
   "metadata": {},
   "outputs": [
    {
     "name": "stdout",
     "output_type": "stream",
     "text": [
      "20\n",
      "15\n",
      "15\n"
     ]
    }
   ],
   "source": [
    "print(num[-1])\n",
    "print(num[2])\n",
    "print(num[-2])"
   ]
  },
  {
   "cell_type": "markdown",
   "metadata": {},
   "source": [
    "#### Iterating over List"
   ]
  },
  {
   "cell_type": "code",
   "execution_count": 5,
   "metadata": {},
   "outputs": [
    {
     "name": "stdout",
     "output_type": "stream",
     "text": [
      "5\n",
      "10\n",
      "15\n",
      "20\n"
     ]
    }
   ],
   "source": [
    "#Example 1\n",
    "for i in num:\n",
    "    print(i)"
   ]
  },
  {
   "cell_type": "code",
   "execution_count": 6,
   "metadata": {},
   "outputs": [
    {
     "name": "stdout",
     "output_type": "stream",
     "text": [
      "5\n",
      "10\n",
      "15\n",
      "20\n"
     ]
    }
   ],
   "source": [
    "#Example 2\n",
    "i =0\n",
    "while i<len(num):\n",
    "    print(num[i])\n",
    "    i+=1"
   ]
  },
  {
   "cell_type": "code",
   "execution_count": 7,
   "metadata": {},
   "outputs": [],
   "source": [
    "# Iterate over slist=[3,4,5,10,9,3] using for loop or while loop"
   ]
  },
  {
   "cell_type": "markdown",
   "metadata": {},
   "source": [
    "#### Using in or not operator in List "
   ]
  },
  {
   "cell_type": "code",
   "execution_count": 8,
   "metadata": {},
   "outputs": [
    {
     "name": "stdin",
     "output_type": "stream",
     "text": [
      "Enter product number V475\n"
     ]
    },
    {
     "name": "stdout",
     "output_type": "stream",
     "text": [
      "V475 was found in list\n"
     ]
    }
   ],
   "source": [
    "prod_num =['V475', 'F987', 'Q143', 'R688']\n",
    "search =input('Enter product number')\n",
    "if search in prod_num:\n",
    "    print('{} was found in list'.format(search))\n",
    "else:\n",
    "    print('{} was not found in list'.format(search))"
   ]
  },
  {
   "cell_type": "markdown",
   "metadata": {},
   "source": [
    "#### Lists are mutuable"
   ]
  },
  {
   "cell_type": "code",
   "execution_count": 11,
   "metadata": {},
   "outputs": [
    {
     "name": "stdout",
     "output_type": "stream",
     "text": [
      "[9, 4, 57, 90, 34, 56]\n",
      "[20, 4, 57, 90, 34, 56]\n"
     ]
    }
   ],
   "source": [
    "mynum =[9,4,57,90, 34, 56]\n",
    "print(mynum)\n",
    "#change the value of the first index\n",
    "mynum[0] =20\n",
    "print(mynum)"
   ]
  },
  {
   "cell_type": "code",
   "execution_count": 12,
   "metadata": {},
   "outputs": [
    {
     "ename": "IndexError",
     "evalue": "list index out of range",
     "output_type": "error",
     "traceback": [
      "\u001b[1;31m---------------------------------------------------------------------------\u001b[0m",
      "\u001b[1;31mIndexError\u001b[0m                                Traceback (most recent call last)",
      "\u001b[1;32m<ipython-input-12-ded3d6b5f6f7>\u001b[0m in \u001b[0;36m<module>\u001b[1;34m\u001b[0m\n\u001b[1;32m----> 1\u001b[1;33m \u001b[0mmynum\u001b[0m\u001b[1;33m[\u001b[0m\u001b[1;36m6\u001b[0m\u001b[1;33m]\u001b[0m\u001b[1;33m\u001b[0m\u001b[1;33m\u001b[0m\u001b[0m\n\u001b[0m",
      "\u001b[1;31mIndexError\u001b[0m: list index out of range"
     ]
    }
   ],
   "source": [
    "mynum[6]"
   ]
  },
  {
   "cell_type": "code",
   "execution_count": 13,
   "metadata": {},
   "outputs": [
    {
     "name": "stdout",
     "output_type": "stream",
     "text": [
      "1\n",
      "2\n",
      "3\n",
      "4\n",
      "5\n",
      "6\n",
      "7\n",
      "8\n",
      "9\n"
     ]
    }
   ],
   "source": [
    "mynum1 =range(1,10,1)\n",
    "# mynum1 =range(10)\n",
    "#how to access the value in the list\n",
    "for i in mynum1:\n",
    "    print(i)\n",
    "# mynum1"
   ]
  },
  {
   "cell_type": "code",
   "execution_count": 14,
   "metadata": {},
   "outputs": [],
   "source": [
    "##change the values of the list\n",
    "nn =[0]*6     #zero value of the list\n",
    "#Now fill with new values\n",
    "i =0\n",
    "while i <len(nn):\n",
    "    nn[i]=9\n",
    "    #update the iteration\n",
    "    i+=1"
   ]
  },
  {
   "cell_type": "code",
   "execution_count": 15,
   "metadata": {},
   "outputs": [
    {
     "name": "stdout",
     "output_type": "stream",
     "text": [
      "[9, 9, 9, 9, 9, 9]\n"
     ]
    }
   ],
   "source": [
    "print(nn)"
   ]
  },
  {
   "cell_type": "code",
   "execution_count": 16,
   "metadata": {},
   "outputs": [
    {
     "name": "stdout",
     "output_type": "stream",
     "text": [
      "[2, 2, 2, 2, 2, 2]\n"
     ]
    }
   ],
   "source": [
    "for i in range(len(nn)):\n",
    "    nn[i]=2\n",
    "print(nn)"
   ]
  },
  {
   "cell_type": "code",
   "execution_count": null,
   "metadata": {},
   "outputs": [],
   "source": [
    "##Design a program that accepts the sales values from the user on each day"
   ]
  },
  {
   "cell_type": "code",
   "execution_count": 17,
   "metadata": {},
   "outputs": [
    {
     "name": "stdin",
     "output_type": "stream",
     "text": [
      "Day #1 20.3\n",
      "Day #2 30.4\n",
      "Day #3 45.2\n",
      "Day #4 60.5\n",
      "Day #5 70.\n"
     ]
    }
   ],
   "source": [
    "no =5\n",
    "# sales =[]\n",
    "sales =[0]*5  #list with zeros\n",
    "i=0 #base index\n",
    "while i <no:\n",
    "    sales[i] =float(input('Day #'+ str(i+1)+ ''))\n",
    "    #update the iterate\n",
    "    i+=1"
   ]
  },
  {
   "cell_type": "code",
   "execution_count": 18,
   "metadata": {},
   "outputs": [
    {
     "name": "stdout",
     "output_type": "stream",
     "text": [
      "Here are the values you entered:\n",
      "20.30\n",
      "30.40\n",
      "45.20\n",
      "60.50\n",
      "70.00\n"
     ]
    }
   ],
   "source": [
    "print('Here are the values you entered:')\n",
    "for i in sales:\n",
    "    print('{:.2f}'.format(i))"
   ]
  },
  {
   "cell_type": "code",
   "execution_count": 19,
   "metadata": {},
   "outputs": [
    {
     "name": "stdin",
     "output_type": "stream",
     "text": [
      "Day #1 89.76\n",
      "Day #2 76.45\n",
      "Day #3 90.56\n",
      "Day #4 34.67\n",
      "Day #5 75.67\n"
     ]
    }
   ],
   "source": [
    "sales1 =[0]*5\n",
    "for i in range(5):\n",
    "    sales1[i]=float(input('Day #'+ str(i+1)+ ''))\n"
   ]
  },
  {
   "cell_type": "code",
   "execution_count": 20,
   "metadata": {},
   "outputs": [
    {
     "name": "stdout",
     "output_type": "stream",
     "text": [
      "Here are the values have entered:\n",
      "89.76\n",
      "76.45\n",
      "90.56\n",
      "34.67\n",
      "75.67\n"
     ]
    }
   ],
   "source": [
    "print('Here are the values have entered:')\n",
    "for i in sales1:\n",
    "    print('%.2f'%(i))"
   ]
  },
  {
   "cell_type": "markdown",
   "metadata": {},
   "source": [
    "#### List Methods"
   ]
  },
  {
   "cell_type": "code",
   "execution_count": 24,
   "metadata": {},
   "outputs": [
    {
     "data": {
      "text/plain": [
       "[89.76, 76.45, 90.56, 34.67, 75.67]"
      ]
     },
     "execution_count": 24,
     "metadata": {},
     "output_type": "execute_result"
    }
   ],
   "source": [
    "# s =[]#empty list\n",
    "# s =list() #empty list\n",
    "s =[]\n",
    "for i in range(5):\n",
    "    s.append(sales1[i])\n",
    "s"
   ]
  },
  {
   "cell_type": "code",
   "execution_count": 22,
   "metadata": {},
   "outputs": [],
   "source": [
    "# s.insert(1,67.89)\n",
    "# del s[1:5]\n"
   ]
  },
  {
   "cell_type": "code",
   "execution_count": 26,
   "metadata": {},
   "outputs": [],
   "source": [
    "s.remove(75.67)"
   ]
  },
  {
   "cell_type": "code",
   "execution_count": 27,
   "metadata": {},
   "outputs": [
    {
     "data": {
      "text/plain": [
       "[89.76, 76.45, 90.56, 34.67]"
      ]
     },
     "execution_count": 27,
     "metadata": {},
     "output_type": "execute_result"
    }
   ],
   "source": [
    "s"
   ]
  },
  {
   "cell_type": "markdown",
   "metadata": {},
   "source": [
    "- `append()`: adds item to the end of the list\n",
    "- `index()`: returns the index of the first element equal to the item\n",
    "- `insert()`: inserts item to the specified index\n",
    "- `sort()`: sorts the list from ascending order\n",
    "- `remove()`: removes the occurence of the item from the list\n",
    "- `reverse()`: reverses the order."
   ]
  },
  {
   "cell_type": "code",
   "execution_count": null,
   "metadata": {},
   "outputs": [],
   "source": [
    "#example on append\n",
    "nList =[]  #empty list\n",
    "# nlist =list()\n",
    "old =[1]*4\n",
    "i =0\n",
    "for i in range(len(old)):\n",
    "    old[i] =90\n",
    "    #append that to a new list\n",
    "    nList.append(old[i])\n",
    "\n",
    "print(old)\n",
    "print(nList)"
   ]
  },
  {
   "cell_type": "code",
   "execution_count": null,
   "metadata": {},
   "outputs": [],
   "source": [
    "old"
   ]
  },
  {
   "cell_type": "code",
   "execution_count": null,
   "metadata": {},
   "outputs": [],
   "source": [
    "nList"
   ]
  },
  {
   "cell_type": "code",
   "execution_count": 28,
   "metadata": {},
   "outputs": [
    {
     "name": "stdin",
     "output_type": "stream",
     "text": [
      "Which item should I change? bread\n",
      "Enter the new value: tea\n"
     ]
    },
    {
     "name": "stdout",
     "output_type": "stream",
     "text": [
      "Here is the revised list:\n",
      "['pizza', 'burgers', 'chips', 'tea']\n"
     ]
    }
   ],
   "source": [
    "##The index method\n",
    "food =['pizza', 'burgers', 'chips', 'bread']\n",
    "#Which item should I change\n",
    "item =input('Which item should I change?')\n",
    "try:\n",
    "    #get the item's index in the list\n",
    "    item_i =food.index(item)\n",
    "    new_i =input('Enter the new value:')\n",
    "    #replace the old item with new item\n",
    "    food[item_i]=new_i\n",
    "    #here is the revised list\n",
    "    print('Here is the revised list:')\n",
    "    print(food)\n",
    "except ValueError:\n",
    "    print('Item not found in the list')"
   ]
  },
  {
   "cell_type": "code",
   "execution_count": 30,
   "metadata": {},
   "outputs": [
    {
     "name": "stdout",
     "output_type": "stream",
     "text": [
      "['James', 'Kafui', 'Thomas']\n",
      "['James', 'Kafui', 'Priscy', 'Thomas']\n"
     ]
    }
   ],
   "source": [
    "##insert method\n",
    "nam1 =['James', 'Kafui', 'Thomas']\n",
    "print(nam1)\n",
    "nam1.insert(2, 'Priscy')\n",
    "print(nam1)"
   ]
  },
  {
   "cell_type": "code",
   "execution_count": 31,
   "metadata": {},
   "outputs": [
    {
     "name": "stdout",
     "output_type": "stream",
     "text": [
      "Original list:  [1, 6, 3, 9, 4, 7]\n",
      "sorted list:  [1, 3, 4, 6, 7, 9]\n"
     ]
    }
   ],
   "source": [
    "##sort method\n",
    "mnlist =[1,6,3,9,4,7]\n",
    "print('Original list: ',mnlist)\n",
    "mnlist.sort()\n",
    "print('sorted list: ',mnlist)"
   ]
  },
  {
   "cell_type": "code",
   "execution_count": 32,
   "metadata": {},
   "outputs": [
    {
     "name": "stdout",
     "output_type": "stream",
     "text": [
      "Reverse order: [9, 7, 6, 4, 3, 1]\n",
      "Remove item: [9, 7, 4, 3, 1]\n"
     ]
    }
   ],
   "source": [
    "## The reverse method\n",
    "mnlist.reverse()\n",
    "print('Reverse order:', mnlist)\n",
    "del mnlist[2]\n",
    "print('Remove item:',mnlist )"
   ]
  },
  {
   "cell_type": "code",
   "execution_count": 33,
   "metadata": {},
   "outputs": [
    {
     "name": "stdout",
     "output_type": "stream",
     "text": [
      "Minimum value is: 1\n",
      "Maximum value is: 9\n"
     ]
    }
   ],
   "source": [
    "print('Minimum value is:', min(mnlist))\n",
    "print('Maximum value is:', max(mnlist))"
   ]
  },
  {
   "cell_type": "code",
   "execution_count": 34,
   "metadata": {},
   "outputs": [
    {
     "name": "stdout",
     "output_type": "stream",
     "text": [
      "[0, 2, 3, 1, 4, 5, 6, 7, 1, 5, 9, 3, 5, 0, 7]\n"
     ]
    }
   ],
   "source": [
    "##Concatenating two lsits together\n",
    "list1 =[0,2,3,1,4,5,6,7]\n",
    "list2 =[1,5,9,3,5,0,7]\n",
    "list3 =list1 +list2\n",
    "print(list3)"
   ]
  },
  {
   "cell_type": "code",
   "execution_count": 35,
   "metadata": {},
   "outputs": [
    {
     "data": {
      "text/plain": [
       "[3, 5, 9, 3, 5, 0, 7]"
      ]
     },
     "execution_count": 35,
     "metadata": {},
     "output_type": "execute_result"
    }
   ],
   "source": [
    "from copy import deepcopy, copy\n",
    "l1 =[]\n",
    "#Any changes made do not affect the original copy\n",
    "l1 =deepcopy(list2)\n",
    "l1[0]=3\n",
    "# list2\n",
    "l1"
   ]
  },
  {
   "cell_type": "code",
   "execution_count": null,
   "metadata": {},
   "outputs": [],
   "source": []
  },
  {
   "cell_type": "markdown",
   "metadata": {},
   "source": [
    "### List comprehesion"
   ]
  },
  {
   "cell_type": "code",
   "execution_count": 36,
   "metadata": {},
   "outputs": [
    {
     "data": {
      "text/plain": [
       "[1, 1, 1, 1, 1, 1]"
      ]
     },
     "execution_count": 36,
     "metadata": {},
     "output_type": "execute_result"
    }
   ],
   "source": [
    "x =[]\n",
    "for i in range(6):\n",
    "    x.append(1)\n",
    "x"
   ]
  },
  {
   "cell_type": "code",
   "execution_count": 37,
   "metadata": {},
   "outputs": [
    {
     "data": {
      "text/plain": [
       "[1, 1, 1, 1, 1, 1]"
      ]
     },
     "execution_count": 37,
     "metadata": {},
     "output_type": "execute_result"
    }
   ],
   "source": [
    "x =[1]*6\n",
    "#list comprehension\n",
    "xx =[x[i] for i in x]\n",
    "xx"
   ]
  },
  {
   "cell_type": "markdown",
   "metadata": {},
   "source": [
    "### Arrays"
   ]
  },
  {
   "cell_type": "code",
   "execution_count": 38,
   "metadata": {},
   "outputs": [
    {
     "data": {
      "text/plain": [
       "[[1, 1, 1, 1], [3, 3, 3, 3]]"
      ]
     },
     "execution_count": 38,
     "metadata": {},
     "output_type": "execute_result"
    }
   ],
   "source": [
    "v1 =[1]*4\n",
    "v2 =[3]*4\n",
    "#create a two by two arrays\n",
    "v =[v1, v2]\n",
    "v"
   ]
  },
  {
   "cell_type": "markdown",
   "metadata": {},
   "source": [
    "#### Dictionary"
   ]
  },
  {
   "cell_type": "code",
   "execution_count": 39,
   "metadata": {},
   "outputs": [],
   "source": [
    "##key-value store room. They also widely used.\n",
    "dic ={'Name': 'Thomas Torku', 'Country': 'Ghana', 'Profession':'Instructor'}\n"
   ]
  },
  {
   "cell_type": "code",
   "execution_count": 40,
   "metadata": {},
   "outputs": [
    {
     "data": {
      "text/plain": [
       "dict_values(['Thomas Torku', 'Ghana', 'Instructor'])"
      ]
     },
     "execution_count": 40,
     "metadata": {},
     "output_type": "execute_result"
    }
   ],
   "source": [
    "dic.values()"
   ]
  },
  {
   "cell_type": "code",
   "execution_count": 41,
   "metadata": {},
   "outputs": [
    {
     "data": {
      "text/plain": [
       "dict_keys(['Name', 'Country', 'Profession'])"
      ]
     },
     "execution_count": 41,
     "metadata": {},
     "output_type": "execute_result"
    }
   ],
   "source": [
    "dic.keys()"
   ]
  },
  {
   "cell_type": "code",
   "execution_count": 42,
   "metadata": {},
   "outputs": [
    {
     "data": {
      "text/plain": [
       "'Thomas Torku'"
      ]
     },
     "execution_count": 42,
     "metadata": {},
     "output_type": "execute_result"
    }
   ],
   "source": [
    "dic['Name']"
   ]
  },
  {
   "cell_type": "code",
   "execution_count": 43,
   "metadata": {},
   "outputs": [
    {
     "data": {
      "text/plain": [
       "'Ghana'"
      ]
     },
     "execution_count": 43,
     "metadata": {},
     "output_type": "execute_result"
    }
   ],
   "source": [
    "dic['Country']"
   ]
  },
  {
   "cell_type": "code",
   "execution_count": 44,
   "metadata": {},
   "outputs": [
    {
     "name": "stdout",
     "output_type": "stream",
     "text": [
      "('Name', 'Thomas Torku')\n",
      "('Country', 'Ghana')\n",
      "('Profession', 'Instructor')\n"
     ]
    }
   ],
   "source": [
    "#Loop through dictionary\n",
    "for i in dic.items():\n",
    "    print(i)"
   ]
  },
  {
   "cell_type": "code",
   "execution_count": 45,
   "metadata": {},
   "outputs": [
    {
     "name": "stdout",
     "output_type": "stream",
     "text": [
      "Thomas Torku\n",
      "Ghana\n",
      "Instructor\n"
     ]
    }
   ],
   "source": [
    "for i in dic.values():\n",
    "    print(i)"
   ]
  },
  {
   "cell_type": "markdown",
   "metadata": {},
   "source": [
    "#### Tuples\n",
    "- Items are defined within parenthesis\n",
    "- Limited in application"
   ]
  },
  {
   "cell_type": "code",
   "execution_count": 46,
   "metadata": {},
   "outputs": [
    {
     "data": {
      "text/plain": [
       "tuple"
      ]
     },
     "execution_count": 46,
     "metadata": {},
     "output_type": "execute_result"
    }
   ],
   "source": [
    "tt =(1,2,3,4)\n",
    "type(tt)"
   ]
  },
  {
   "cell_type": "code",
   "execution_count": 47,
   "metadata": {},
   "outputs": [
    {
     "data": {
      "text/plain": [
       "2"
      ]
     },
     "execution_count": 47,
     "metadata": {},
     "output_type": "execute_result"
    }
   ],
   "source": [
    "tt[1]"
   ]
  },
  {
   "cell_type": "code",
   "execution_count": null,
   "metadata": {},
   "outputs": [],
   "source": []
  }
 ],
 "metadata": {
  "kernelspec": {
   "display_name": "Python 3",
   "language": "python",
   "name": "python3"
  },
  "language_info": {
   "codemirror_mode": {
    "name": "ipython",
    "version": 3
   },
   "file_extension": ".py",
   "mimetype": "text/x-python",
   "name": "python",
   "nbconvert_exporter": "python",
   "pygments_lexer": "ipython3",
   "version": "3.8.5"
  }
 },
 "nbformat": 4,
 "nbformat_minor": 4
}

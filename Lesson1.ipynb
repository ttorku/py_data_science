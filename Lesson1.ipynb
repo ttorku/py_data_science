{
 "cells": [
  {
   "cell_type": "markdown",
   "metadata": {},
   "source": [
    "#### Excellent Tutorials Series (ETS)\n",
    "#### Author: Thomas K Torku\n",
    "#### Topic: Overview "
   ]
  },
  {
   "cell_type": "markdown",
   "metadata": {},
   "source": [
    "`The content of this tutorial includes`\n",
    " 1. Variables and Data Types\n",
    "   - integer\n",
    "   - floats\n",
    "   - boolean\n",
    "   - strings\n",
    " 2. Data structures: lists, dictionary, tuples and arrays\n",
    " 3. if, for control blocks\n",
    " 4. Functions\n",
    " 5. Reading and Writing files\n",
    " 6. Modules\n",
    " \n",
    "**`There will be exercises at the end of each concept and project for each lesson`**"
   ]
  },
  {
   "cell_type": "markdown",
   "metadata": {},
   "source": [
    "`Before we begin this tutorial lets walk through some basic python installation steps`\n",
    "  1. Download any latest python interpreter from the internet. __[Anaconda](https://www.anaconda.com/products/individual)__\n",
    "  2. Alternatively you can install using Terminal.\n",
    "  3. Follow the installation instructions therein.\n",
    "  4. We are going to use JupyterLab in this tutorial.\n",
    "  5. I will walk you through the Lab environment.__[Latex](https://www.anaconda.com/products/individual)__\n",
    "  6. References \n",
    "      - __[Starting out with Python](https://www.pearson.com/us/higher-education/program/Gaddis-My-Lab-Programming-with-Pearson-e-Text-Access-Card-for-Starting-out-with-Python-5th-Edition/PGM2889368.html)__"
   ]
  },
  {
   "cell_type": "markdown",
   "metadata": {},
   "source": [
    "### Variables"
   ]
  },
  {
   "cell_type": "code",
   "execution_count": 6,
   "metadata": {},
   "outputs": [],
   "source": [
    "stud_name =\"It's my birth day\"\n",
    "d =\"\"\"It's my friends's \"birth day\" tomorrow\"\"\"\n"
   ]
  },
  {
   "cell_type": "markdown",
   "metadata": {},
   "source": [
    "`They are used to temporalily store values of objects in the computer memory` They include the following:  \n",
    "\n",
    "In python, **An expression is a piece of code that returns a value**\n",
    "Any expression within quotation is treated as a string. A few notes about variables in python\n",
    " - It  is case sensitive\n",
    " - By standard approach, long variable names involve some underscore\n",
    "   - Variable name like my_grade, vote_yes\n",
    "   - Variable names should not start with capitals\n",
    " - They can be overrided within the code \n",
    " - There two types of variables:\n",
    "   - Numeric Variables\n",
    "     - Integers\n",
    "     - Floats or decimals\n",
    "   - Non-numeric Variables\n",
    "     - String\n",
    "     - Bolean "
   ]
  },
  {
   "cell_type": "code",
   "execution_count": 7,
   "metadata": {},
   "outputs": [
    {
     "name": "stdout",
     "output_type": "stream",
     "text": [
      "This is an expression\n",
      "Value\n",
      "&&&&&&\n"
     ]
    }
   ],
   "source": [
    "print('This is an expression')\n",
    "print('Value')\n",
    "print('&&&'* 2)  #Returns twice of &&& "
   ]
  },
  {
   "cell_type": "code",
   "execution_count": 8,
   "metadata": {},
   "outputs": [
    {
     "name": "stdout",
     "output_type": "stream",
     "text": [
      "Integer is 10\n",
      "Float is 10.2\n",
      "String is tom\n",
      "Bolean is True\n",
      "My Grade in Deep Learning is A\n"
     ]
    }
   ],
   "source": [
    "g =10    #integer\n",
    "g1 =10.2 #float or decimal representation\n",
    "g2 = 'tom' #string\n",
    "g3 =True  #Bolean - true or false\n",
    "my_grade ='A' #string character\n",
    "print('Integer is', g)\n",
    "print('Float is', g1)\n",
    "print('String is', g2)\n",
    "print('Bolean is', g3)\n",
    "print('My Grade in Deep Learning is', my_grade)"
   ]
  },
  {
   "cell_type": "code",
   "execution_count": 9,
   "metadata": {},
   "outputs": [
    {
     "name": "stdout",
     "output_type": "stream",
     "text": [
      "Variables can be overrided 11\n"
     ]
    }
   ],
   "source": [
    "g =11\n",
    "print('Variables can be overrided', g)"
   ]
  },
  {
   "cell_type": "markdown",
   "metadata": {},
   "source": [
    "#### Exercise 1\n",
    "- `Write a program that identifies the names of variables in this exercise.\n",
    "We want to admit student named Priscilla Nyarkoh. She is 40 years old and she is a new student\n",
    "Identify all the variables and check if she is a new student or not.`"
   ]
  },
  {
   "cell_type": "markdown",
   "metadata": {},
   "source": [
    "### Built-in Functions"
   ]
  },
  {
   "cell_type": "markdown",
   "metadata": {},
   "source": [
    "Python has built-in functions that helps to program and write expressions\n",
    "- `print() statment`: used to output values of expressions onto the console\n",
    "- `input() statment`: used to accept or recieve objects from the user from keyboard\n",
    "- `Python takes every statement on the console as string so it must be converted to other forms`\n",
    "- `int() stament`: converts a string to integer\n",
    "- `float () statement`: converts a string  to decimal\n",
    "- `bool () statement`: converts a string to True or False\n",
    "- `type () statement`: to know the type of varaiable\n",
    "- `str() statement`: to convert to string"
   ]
  },
  {
   "cell_type": "markdown",
   "metadata": {},
   "source": [
    "#### Exercise 2\n",
    "- `Write a program that ask two questions: a student's name and hobby. Then print the message\n",
    "    'Thomas likes Python Program'`"
   ]
  },
  {
   "cell_type": "code",
   "execution_count": 10,
   "metadata": {},
   "outputs": [
    {
     "name": "stdin",
     "output_type": "stream",
     "text": [
      "Please enter name  Thomas Torku\n",
      "Please enter hobby  Python Program\n"
     ]
    },
    {
     "name": "stdout",
     "output_type": "stream",
     "text": [
      "Thomas Torku likes Python Program\n"
     ]
    }
   ],
   "source": [
    "stud_name =input('Please enter name ')\n",
    "hobb =input('Please enter hobby ')\n",
    "print(stud_name + ' likes ' +hobb )"
   ]
  },
  {
   "cell_type": "markdown",
   "metadata": {},
   "source": [
    "#### Exercise 3\n",
    "- `Write a program that caculates your age after asking for your birth year`"
   ]
  },
  {
   "cell_type": "code",
   "execution_count": 13,
   "metadata": {},
   "outputs": [
    {
     "name": "stdin",
     "output_type": "stream",
     "text": [
      "Enter birth year 1989\n"
     ]
    },
    {
     "name": "stdout",
     "output_type": "stream",
     "text": [
      "31\n"
     ]
    }
   ],
   "source": [
    "birth_yr =int(input('Enter birth year'))\n",
    "#formula\n",
    "age =2020 -birth_yr\n",
    "print(age)"
   ]
  },
  {
   "cell_type": "markdown",
   "metadata": {},
   "source": [
    "#### Exercise 4\n",
    "- `Write a program that ask a user's distance in miles and convert to \n",
    "kilometers and print the output on terminal`"
   ]
  },
  {
   "cell_type": "markdown",
   "metadata": {},
   "source": [
    "### More on Variables"
   ]
  },
  {
   "cell_type": "code",
   "execution_count": 14,
   "metadata": {},
   "outputs": [
    {
     "data": {
      "text/plain": [
       "int"
      ]
     },
     "execution_count": 14,
     "metadata": {},
     "output_type": "execute_result"
    }
   ],
   "source": [
    "type(g)"
   ]
  },
  {
   "cell_type": "code",
   "execution_count": 15,
   "metadata": {},
   "outputs": [
    {
     "data": {
      "text/plain": [
       "bool"
      ]
     },
     "execution_count": 15,
     "metadata": {},
     "output_type": "execute_result"
    }
   ],
   "source": [
    "type(g3)"
   ]
  },
  {
   "cell_type": "markdown",
   "metadata": {},
   "source": [
    "### Examples"
   ]
  },
  {
   "cell_type": "code",
   "execution_count": 16,
   "metadata": {},
   "outputs": [
    {
     "name": "stdout",
     "output_type": "stream",
     "text": [
      "13 5 36 1 81\n"
     ]
    }
   ],
   "source": [
    "#Performing Calculations\n",
    "a=9\n",
    "b =4\n",
    "c =a+b #addition\n",
    "d =a-b #subtractiom\n",
    "e =a*b #multiplication\n",
    "f =a%b #reminder- modulus\n",
    "k =a**2 #power\n",
    "print(c, d, e, f, k)"
   ]
  },
  {
   "cell_type": "code",
   "execution_count": 25,
   "metadata": {},
   "outputs": [
    {
     "name": "stdin",
     "output_type": "stream",
     "text": [
      "Enter the price  10100.34\n"
     ]
    },
    {
     "name": "stdout",
     "output_type": "stream",
     "text": [
      "The sale is: 8080.27 \n"
     ]
    }
   ],
   "source": [
    "#Calculate the discount percent\n",
    "price =float(input('Enter the price '))\n",
    "#Calculate the percent 20%\n",
    "dis =price*0.2\n",
    "#Calculate the sale price\n",
    "sale_price =price -dis\n",
    "print('The sale is: %.2f '%(sale_price))"
   ]
  },
  {
   "cell_type": "markdown",
   "metadata": {},
   "source": [
    "### How to code mathematical formula in Python\n",
    "  - \\begin{align*} P =\\dfrac{F}{(1+r)^n}\\end{align*}\n",
    "  - P: present value\n",
    "  - F: Future value\n",
    "  - r: rate of interest\n",
    "  - n: number of years\n",
    "<!--   - \\begin{equation*} I =PRT \\end{equation*} -->"
   ]
  },
  {
   "cell_type": "code",
   "execution_count": 26,
   "metadata": {},
   "outputs": [
    {
     "name": "stdin",
     "output_type": "stream",
     "text": [
      "Enter the future value  10101.56\n",
      "Enter the rate  0.03\n",
      "Enter years  5\n"
     ]
    },
    {
     "name": "stdout",
     "output_type": "stream",
     "text": [
      "The Present value is $8713.69 \n"
     ]
    }
   ],
   "source": [
    "f_val =float(input('Enter the future value '))\n",
    "rate =float(input('Enter the rate '))\n",
    "yr =int(input('Enter years '))\n",
    "p =f_val/(1+rate)**yr\n",
    "print('The Present value is $%.2f '%(p))"
   ]
  },
  {
   "cell_type": "markdown",
   "metadata": {},
   "source": [
    "### Escape Characters\n",
    "- `\\n`: advancing to the next charcter\n",
    "- `\\t`: skip over to the next tab"
   ]
  },
  {
   "cell_type": "code",
   "execution_count": 27,
   "metadata": {},
   "outputs": [
    {
     "name": "stdout",
     "output_type": "stream",
     "text": [
      "This is my first program\n",
      "\n",
      "This is my tab \t and we are advancing to new line\n",
      "\n",
      "**************************************************************************\n",
      "\n",
      "First Number 34.568 \t Second Number 25.679 \t Third Number 10.491\n",
      "\n",
      "***************************************************************************\n",
      "\n"
     ]
    }
   ],
   "source": [
    "print('This is my first program\\n')\n",
    "print('This is my tab \\t and we are advancing to new line\\n')\n",
    "py, xy, zy =34.56798, 25.6787, 10.4908\n",
    "print('**************************************************************************\\n')\n",
    "print('First Number %.3f \\t Second Number %.3f \\t Third Number %.3f\\n'%(py, xy, zy) )\n",
    "print('***************************************************************************\\n')"
   ]
  },
  {
   "cell_type": "markdown",
   "metadata": {},
   "source": [
    "### Formatting Numbers and strings\n",
    " - `%d`: format for integers\n",
    " - `%f`: format for float\n",
    " - `%s`: format for string"
   ]
  },
  {
   "cell_type": "code",
   "execution_count": 28,
   "metadata": {},
   "outputs": [
    {
     "name": "stdin",
     "output_type": "stream",
     "text": [
      "Day of the month 2\n",
      "Sales for the year 2378.96\n"
     ]
    },
    {
     "name": "stdout",
     "output_type": "stream",
     "text": [
      "The day 2 which is  2 and sales is: $2378.96\n"
     ]
    }
   ],
   "source": [
    "day =input('Day of the month')\n",
    "sales =float(input('Sales for the year'))\n",
    "print('The day %d which is  %s and sales is: $%.2f'%(2, day, sales))\n",
    "# print('The day of the month %d is %s and sales $.2%f'.format(2, day, sales))"
   ]
  },
  {
   "cell_type": "markdown",
   "metadata": {},
   "source": [
    "### Lesson1 Exercises\n",
    "1. Write a program that displays\n",
    "   - Your name\n",
    "   - Your address with city, state and ZIP\n",
    "   - Your Telephone Number\n",
    "   - Your college Major\n",
    "2. A company has determined that its annual profit is typically 23 percent of total sales.\n",
    "    Write a program that ask the user to enter the projected amount of total sales. And then displays the profit that will be made form that amount.\n",
    "3. Assuming there are no accidents or delays, the distance that a car travels down the interstate can be calculated with the formula \\begin{align} Distance =Speed \\times Time\\end{align}. The car is traveling at 60 miles per hour. Write a program that displays the following.\n",
    "   - The distance the car will travel in $5$ hours.\n",
    "   - The distance the car will travel in $8$ hours.\n",
    "   - The distance the car will travel in $12$ hours."
   ]
  },
  {
   "cell_type": "markdown",
   "metadata": {},
   "source": [
    "### More On String Characters"
   ]
  },
  {
   "cell_type": "code",
   "execution_count": 4,
   "metadata": {},
   "outputs": [
    {
     "name": "stdout",
     "output_type": "stream",
     "text": [
      "This is my story. This is my song. I am rejoicing and dancing\n"
     ]
    }
   ],
   "source": [
    "##For long strings\n",
    "long_string ='''This is my story. This is my song. I am rejoicing and dancing'''  \n",
    "print(long_string)"
   ]
  },
  {
   "cell_type": "code",
   "execution_count": null,
   "metadata": {},
   "outputs": [],
   "source": [
    "## Python is row-based indexing."
   ]
  },
  {
   "cell_type": "markdown",
   "metadata": {},
   "source": [
    "##### Indexing on String"
   ]
  },
  {
   "cell_type": "code",
   "execution_count": 5,
   "metadata": {},
   "outputs": [
    {
     "name": "stdout",
     "output_type": "stream",
     "text": [
      "T\n",
      "his is my story. This is my song. I am rejoicing and dancin\n",
      " is m\n",
      "This is my story. This is my song. I am rejoicing and dancing\n",
      "his is my story. This is my song. I am rejoicing and dancing\n",
      "n\n"
     ]
    }
   ],
   "source": [
    "print(long_string[0])\n",
    "print(long_string[1:-1]) #print everything except the first and last strings\n",
    "print(long_string[4:9])\n",
    "print(long_string[:])\n",
    "print(long_string[1:])\n",
    "print(long_string[-2]) #last but one string"
   ]
  },
  {
   "cell_type": "code",
   "execution_count": 10,
   "metadata": {},
   "outputs": [
    {
     "name": "stdout",
     "output_type": "stream",
     "text": [
      "science helps to solve problems\n",
      "The sum of two numbers 4.5 and 6.2 is 10.7\n"
     ]
    }
   ],
   "source": [
    "### Formatted Strings\n",
    "tom1 ='science'\n",
    "tom2 ='problems'\n",
    "ta =4.5\n",
    "tb =6.2\n",
    "# tom =f'Science helps to solve problems'\n",
    "print('{} helps to solve {}'.format(tom1, tom2))\n",
    "print('The sum of two numbers {:.1f} and {:.1f} is {:.1f}'.format(ta, tb,ta+tb))\n",
    "#{} is a placeholder that receives the value of the variable"
   ]
  },
  {
   "cell_type": "markdown",
   "metadata": {},
   "source": [
    "#### String Methods"
   ]
  },
  {
   "cell_type": "markdown",
   "metadata": {},
   "source": [
    "- `len()`: General purpose method for calculating length of a string or any variable\n",
    "- `.upper()`: converting to upper cases\n",
    "- `.lower`: converting to lower cases\n",
    "- `.find()`: finding the index of the first occurence of a character within a string\n",
    "<!-- - `.title()`: -->\n",
    "- `in operator`: search for stuff within the string\n",
    "- `.replace()`: replace string with a some characters\n",
    "- `.split()`: splits string into list of words"
   ]
  },
  {
   "cell_type": "code",
   "execution_count": 12,
   "metadata": {},
   "outputs": [
    {
     "data": {
      "text/plain": [
       "False"
      ]
     },
     "execution_count": 12,
     "metadata": {},
     "output_type": "execute_result"
    }
   ],
   "source": [
    "'stoy' in long_string"
   ]
  },
  {
   "cell_type": "code",
   "execution_count": 44,
   "metadata": {},
   "outputs": [
    {
     "name": "stdout",
     "output_type": "stream",
     "text": [
      "61\n",
      "THIS IS MY STORY. THIS IS MY SONG. I AM REJOICING AND DANCING\n",
      "this is my story. this is my song. i am rejoicing and dancing\n",
      "0\n",
      "54\n",
      "This Is My Story. This Is My Song. I Am Rejoicing And Dancing\n",
      "This is my story. This is my song. I am smiling and dancing\n",
      "This is my stogy. This is my song. I am gejoicing and dancing\n",
      "['This', 'is', 'my', 'story.', 'This', 'is', 'my', 'song.', 'I', 'am', 'rejoicing', 'and', 'dancing']\n"
     ]
    }
   ],
   "source": [
    "print(len(long_string))  #get the length of the entire string\n",
    "print(long_string.upper())\n",
    "print(long_string.lower())\n",
    "print(long_string.find('T')) #first encounter of T\n",
    "print(long_string.find('dancing'))\n",
    "print(long_string.title())\n",
    "print(long_string.replace('rejoicing', 'smiling'))\n",
    "print(long_string.replace('r', 'g'))\n",
    "print(long_string.split())"
   ]
  },
  {
   "cell_type": "markdown",
   "metadata": {},
   "source": [
    "#### More on Arithmetic Operations"
   ]
  },
  {
   "cell_type": "code",
   "execution_count": 15,
   "metadata": {},
   "outputs": [],
   "source": [
    "##Augmented Assignment operator\n",
    "x =10  #original x\n",
    "# x =x +3\n",
    "# print(x)"
   ]
  },
  {
   "cell_type": "code",
   "execution_count": 19,
   "metadata": {},
   "outputs": [
    {
     "name": "stdout",
     "output_type": "stream",
     "text": [
      "22\n"
     ]
    }
   ],
   "source": [
    "x +=3\n",
    "print(x)"
   ]
  },
  {
   "cell_type": "code",
   "execution_count": 22,
   "metadata": {},
   "outputs": [
    {
     "name": "stdout",
     "output_type": "stream",
     "text": [
      "13\n"
     ]
    }
   ],
   "source": [
    "x-=3\n",
    "print(x)"
   ]
  },
  {
   "cell_type": "code",
   "execution_count": 23,
   "metadata": {},
   "outputs": [
    {
     "name": "stdout",
     "output_type": "stream",
     "text": [
      "39\n"
     ]
    }
   ],
   "source": [
    "x *=3\n",
    "print(x)"
   ]
  },
  {
   "cell_type": "code",
   "execution_count": 24,
   "metadata": {},
   "outputs": [
    {
     "name": "stdout",
     "output_type": "stream",
     "text": [
      "13.0\n"
     ]
    }
   ],
   "source": [
    "x /=3\n",
    "print(x)"
   ]
  },
  {
   "cell_type": "markdown",
   "metadata": {},
   "source": [
    "#### Short Exercise"
   ]
  },
  {
   "cell_type": "code",
   "execution_count": 26,
   "metadata": {},
   "outputs": [
    {
     "data": {
      "text/plain": [
       "3"
      ]
     },
     "execution_count": 26,
     "metadata": {},
     "output_type": "execute_result"
    }
   ],
   "source": [
    "## What will this code display \n",
    "animal ='Tiger'\n",
    "animal.find('e')"
   ]
  },
  {
   "cell_type": "code",
   "execution_count": 27,
   "metadata": {},
   "outputs": [
    {
     "data": {
      "text/plain": [
       "'dcd'"
      ]
     },
     "execution_count": 27,
     "metadata": {},
     "output_type": "execute_result"
    }
   ],
   "source": [
    "## What will this code display\n",
    "mystr ='abdcdefg'\n",
    "mystr[2:5]"
   ]
  },
  {
   "cell_type": "code",
   "execution_count": 28,
   "metadata": {},
   "outputs": [
    {
     "name": "stdout",
     "output_type": "stream",
     "text": [
      "a A\n"
     ]
    }
   ],
   "source": [
    "ch ='a'\n",
    "ch2 =ch.upper()\n",
    "print(ch, ch2)"
   ]
  },
  {
   "cell_type": "markdown",
   "metadata": {},
   "source": [
    "### Homework"
   ]
  },
  {
   "cell_type": "markdown",
   "metadata": {},
   "source": [
    "- 1. Write a program to demonstrate how split method is used\n",
    "    - mystring ='one two three four'\n",
    "    - date_string ='3/26/2008'\n",
    "    \n",
    "    "
   ]
  },
  {
   "cell_type": "code",
   "execution_count": 33,
   "metadata": {},
   "outputs": [
    {
     "data": {
      "text/plain": [
       "['one', 'two', 'three', 'four']"
      ]
     },
     "execution_count": 33,
     "metadata": {},
     "output_type": "execute_result"
    }
   ],
   "source": [
    "mystring ='one two three four'\n",
    "date_string ='3>26>2008'\n",
    "mystring.split()\n"
   ]
  },
  {
   "cell_type": "code",
   "execution_count": 34,
   "metadata": {},
   "outputs": [
    {
     "data": {
      "text/plain": [
       "['3', '26', '2008']"
      ]
     },
     "execution_count": 34,
     "metadata": {},
     "output_type": "execute_result"
    }
   ],
   "source": [
    "date_string.split('>')"
   ]
  },
  {
   "cell_type": "code",
   "execution_count": 20,
   "metadata": {},
   "outputs": [
    {
     "data": {
      "text/plain": [
       "['cookies', 'milk', 'fudge', 'cake', 'ice cream']"
      ]
     },
     "execution_count": 20,
     "metadata": {},
     "output_type": "execute_result"
    }
   ],
   "source": [
    "## split this \n",
    "mystrg ='cookies>milk>fudge>cake>ice cream'\n",
    "mystrg.split('>')"
   ]
  },
  {
   "cell_type": "code",
   "execution_count": null,
   "metadata": {},
   "outputs": [],
   "source": []
  },
  {
   "cell_type": "code",
   "execution_count": null,
   "metadata": {},
   "outputs": [],
   "source": []
  },
  {
   "cell_type": "code",
   "execution_count": null,
   "metadata": {},
   "outputs": [],
   "source": []
  }
 ],
 "metadata": {
  "kernelspec": {
   "display_name": "Python 3",
   "language": "python",
   "name": "python3"
  },
  "language_info": {
   "codemirror_mode": {
    "name": "ipython",
    "version": 3
   },
   "file_extension": ".py",
   "mimetype": "text/x-python",
   "name": "python",
   "nbconvert_exporter": "python",
   "pygments_lexer": "ipython3",
   "version": "3.8.5"
  }
 },
 "nbformat": 4,
 "nbformat_minor": 4
}

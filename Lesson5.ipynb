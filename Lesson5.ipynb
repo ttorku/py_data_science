{
 "cells": [
  {
   "cell_type": "markdown",
   "metadata": {},
   "source": [
    "#### Excellent Tutorials Series (ETS)\n",
    "#### Author: Thomas K Torku\n",
    "#### Topic: Overview "
   ]
  },
  {
   "cell_type": "markdown",
   "metadata": {},
   "source": [
    "## Files"
   ]
  },
  {
   "cell_type": "markdown",
   "metadata": {},
   "source": [
    "`Files have mode in which they are described`\n",
    "  - r: read\n",
    "  - w: write\n",
    "  - a: open and file to be written"
   ]
  },
  {
   "cell_type": "code",
   "execution_count": 13,
   "metadata": {},
   "outputs": [
    {
     "name": "stdout",
     "output_type": "stream",
     "text": [
      "Fredy: 900\n",
      "Selasi: 400\n",
      "Priscy: 800\n",
      "Anyomi: 2000\n",
      "Thomas: 20000\n"
     ]
    }
   ],
   "source": [
    "def main():\n",
    "    file1 =open('customer.txt', 'r')\n",
    "    file2=file1.read()\n",
    "    file1.close()\n",
    "    print(file2)    \n",
    "main()"
   ]
  },
  {
   "cell_type": "code",
   "execution_count": 24,
   "metadata": {},
   "outputs": [
    {
     "name": "stdout",
     "output_type": "stream",
     "text": [
      "Thomas: 20000\n"
     ]
    }
   ],
   "source": [
    "def main():\n",
    "    file1 =open('customer.txt', 'r')\n",
    "    l1=file1.readline()\n",
    "    l2=file1.readline()\n",
    "    l3=file1.readline()\n",
    "    l4=file1.readline()\n",
    "    l5=file1.readline()\n",
    "    file1.close()\n",
    "    print(l5)    \n",
    "main()"
   ]
  },
  {
   "cell_type": "code",
   "execution_count": null,
   "metadata": {},
   "outputs": [],
   "source": [
    "## Create an artificial file by extension .txt contain days of the week and the number of times you eat.\n",
    "## Write a simple function to read in (1) all the contents of the file (2) read just the first two lines."
   ]
  },
  {
   "cell_type": "code",
   "execution_count": 28,
   "metadata": {},
   "outputs": [],
   "source": [
    "# def main():\n",
    "#     arr_list =[]\n",
    "#     file1 =open('customer.txt', 'r')\n",
    "#     lines =file1.readlines()\n",
    "#     for i in range(len(lines)):\n",
    "#         arr_list.append(lines)\n",
    "#     file1.close()\n",
    "#     print(arr_list)    \n",
    "# main()"
   ]
  },
  {
   "cell_type": "code",
   "execution_count": 29,
   "metadata": {},
   "outputs": [],
   "source": [
    "def main():\n",
    "    file3 =open('netflix.txt', 'w')\n",
    "    file3.write('Thomas: 0\\n')\n",
    "    file3.write('Priscy: 1\\n')\n",
    "    file3.write('Anyomi: 5\\n')\n",
    "    file3.write('Freddy: 5\\n')\n",
    "    file3.close()   \n",
    "main()"
   ]
  },
  {
   "cell_type": "code",
   "execution_count": null,
   "metadata": {},
   "outputs": [],
   "source": [
    "## Create an artificial file by extension .txt contain number of times you shop in a week\n",
    "## Write a simple function to write in (1) all the contents of the file (2) save the file."
   ]
  },
  {
   "cell_type": "code",
   "execution_count": 9,
   "metadata": {},
   "outputs": [
    {
     "name": "stdin",
     "output_type": "stream",
     "text": [
      "Enter #1:  Purity\n",
      "Enter #2:  Praise\n",
      "Enter #3:  Olympio\n"
     ]
    },
    {
     "name": "stdout",
     "output_type": "stream",
     "text": [
      "Names were written to friends.txt\n"
     ]
    }
   ],
   "source": [
    "#Adding new line character\n",
    "def main():\n",
    "    #Get three names\n",
    "    n1 =input('Enter #1: ')\n",
    "    n2 =input('Enter #2: ')\n",
    "    n3 =input('Enter #3: ')\n",
    "    \n",
    "    #Open a file named friends.txt\n",
    "    f1 =open('friends.txt', 'w')\n",
    "    \n",
    "    #Write the names into the file named\n",
    "    f1.write(n1 +'\\n')\n",
    "    f1.write(n2 +'\\n')\n",
    "    f1.write(n3 +'\\n')\n",
    "    #Clos the file\n",
    "    f1.close() \n",
    "    print('Names were written to friends.txt')\n",
    "main()"
   ]
  },
  {
   "cell_type": "code",
   "execution_count": 13,
   "metadata": {},
   "outputs": [
    {
     "name": "stdout",
     "output_type": "stream",
     "text": [
      "Mimi\n"
     ]
    }
   ],
   "source": [
    "#Strip off new line character\n",
    "def main():\n",
    "    fil1 =open('friends.txt', 'r')\n",
    "    l1 =fil1.readline()\n",
    "    l2 =fil1.readline()\n",
    "    l3 =fil1.readline()\n",
    "    \n",
    "    #strip of the newline characters\n",
    "    l1 =l1.rstrip('\\n')\n",
    "    l2 =l2.rstrip('\\n')\n",
    "    l3 =l3.rstrip('\\n')    \n",
    "    fil1.close()\n",
    "    print(l3)\n",
    "main()"
   ]
  },
  {
   "cell_type": "code",
   "execution_count": 16,
   "metadata": {},
   "outputs": [
    {
     "name": "stdout",
     "output_type": "stream",
     "text": [
      "Anyomi: 5\n"
     ]
    }
   ],
   "source": [
    "def main():\n",
    "    fil1 =open('netflix.txt', 'r')\n",
    "    l1 =fil1.readline()\n",
    "    l2 =fil1.readline()\n",
    "    l3 =fil1.readline()\n",
    "    \n",
    "    #strip of the newline characters\n",
    "    l1 =l1.rstrip('\\n')\n",
    "    l2 =l2.rstrip('\\n')\n",
    "    l3 =l3.rstrip('\\n')    \n",
    "    fil1.close()\n",
    "    print(l3)\n",
    "main()"
   ]
  },
  {
   "cell_type": "code",
   "execution_count": 17,
   "metadata": {},
   "outputs": [
    {
     "name": "stdout",
     "output_type": "stream",
     "text": [
      "23\n"
     ]
    }
   ],
   "source": [
    "## How to read numbers\n",
    "def main():\n",
    "    fil1 =open('numbers.txt', 'r')\n",
    "    num =int(fil1.readline())\n",
    "    fil1.close()\n",
    "    print(num)\n",
    "    \n",
    "main()"
   ]
  },
  {
   "cell_type": "code",
   "execution_count": 18,
   "metadata": {},
   "outputs": [
    {
     "name": "stdout",
     "output_type": "stream",
     "text": [
      " The numners are  23 25 26\n",
      "The total is  74\n"
     ]
    }
   ],
   "source": [
    "## read and add all the numbers\n",
    "def main():\n",
    "    fil1 =open('numbers.txt', 'r')\n",
    "    num1 =int(fil1.readline())\n",
    "    num2 =int(fil1.readline())\n",
    "    num3 =int(fil1.readline())\n",
    "    fil1.close()\n",
    "    total =num1 +num2 +num3\n",
    "    print(' The numners are ', num1, num2, num3)\n",
    "    print('The total is ',  total)\n",
    "    \n",
    "main()\n"
   ]
  },
  {
   "cell_type": "markdown",
   "metadata": {},
   "source": [
    "### Using Loops to process data"
   ]
  },
  {
   "cell_type": "code",
   "execution_count": 19,
   "metadata": {},
   "outputs": [
    {
     "name": "stdin",
     "output_type": "stream",
     "text": [
      "How many days do you have sales 6\n",
      "Enter the sales for day #1: 356.89\n",
      "Enter the sales for day #2: 5674.65\n",
      "Enter the sales for day #3: 8957.43\n",
      "Enter the sales for day #4: 10345.67\n",
      "Enter the sales for day #5: 11345.89\n",
      "Enter the sales for day #6: 123456.76\n"
     ]
    },
    {
     "name": "stdout",
     "output_type": "stream",
     "text": [
      "Data successfully written into sales.txt\n"
     ]
    }
   ],
   "source": [
    "def main():\n",
    "    #numbber of days\n",
    "    num= int(input('How many days do you have sales'))\n",
    "    sales_file =open('sales.txt', 'w')\n",
    "    for i in range(1, num+1):\n",
    "        sales =float(input('Enter the sales for day #' +str(i)+ ':'))\n",
    "        sales_file.write(str(sales) + '\\n') \n",
    "    sales_file.close()\n",
    "    print('Data successfully written into sales.txt') \n",
    "    \n",
    "    \n",
    "main()"
   ]
  },
  {
   "cell_type": "code",
   "execution_count": 23,
   "metadata": {},
   "outputs": [
    {
     "data": {
      "text/plain": [
       "[356.89, 5674.65, 8957.43, 10345.67, 11345.89, 123456.76]"
      ]
     },
     "execution_count": 23,
     "metadata": {},
     "output_type": "execute_result"
    }
   ],
   "source": [
    "def main():\n",
    "    sales=list()\n",
    "    sales_f =open('sales.txt', 'r')\n",
    "    for line in sales_f:\n",
    "        amt =float(line)\n",
    "        sales.append(amt)\n",
    "    sales_f.close()\n",
    "    return sales\n",
    "    \n",
    "main()"
   ]
  },
  {
   "cell_type": "code",
   "execution_count": 1,
   "metadata": {},
   "outputs": [],
   "source": [
    "## Write a program that ask the user to enter the number of books read in each month\n",
    "## Create a books.txt file to store this data\n",
    "### read in the data using the for loop"
   ]
  },
  {
   "cell_type": "code",
   "execution_count": 2,
   "metadata": {},
   "outputs": [
    {
     "name": "stdin",
     "output_type": "stream",
     "text": [
      "Enter number per month # 1: 4\n",
      "Enter number per month # 2: 6\n",
      "Enter number per month # 3: 8\n",
      "Enter number per month # 4: 10\n",
      "Enter number per month # 5: 6\n"
     ]
    }
   ],
   "source": [
    "def book_write(num_mon):\n",
    "    bk_file =open('book.txt', 'w')\n",
    "    \n",
    "    for i in range(num_mon):\n",
    "        books =int(input('Enter number per month # ' +str(i+1)+ ':'))\n",
    "        bk_file.write(str(books) + '\\n')\n",
    "#         print(bk_file)\n",
    "    bk_file.close()\n",
    "    return\n",
    "    \n",
    "book_write(5)"
   ]
  },
  {
   "cell_type": "code",
   "execution_count": 3,
   "metadata": {},
   "outputs": [
    {
     "name": "stdout",
     "output_type": "stream",
     "text": [
      "4\n",
      "6\n",
      "8\n",
      "10\n",
      "6\n"
     ]
    }
   ],
   "source": [
    "bk_read =open('book.txt', 'r')\n",
    "for line in bk_read:\n",
    "    bk =int(line)\n",
    "    print(bk)\n",
    "bk_read.close()"
   ]
  },
  {
   "cell_type": "code",
   "execution_count": null,
   "metadata": {},
   "outputs": [],
   "source": [
    "# def read_video()"
   ]
  }
 ],
 "metadata": {
  "kernelspec": {
   "display_name": "Python 3",
   "language": "python",
   "name": "python3"
  },
  "language_info": {
   "codemirror_mode": {
    "name": "ipython",
    "version": 3
   },
   "file_extension": ".py",
   "mimetype": "text/x-python",
   "name": "python",
   "nbconvert_exporter": "python",
   "pygments_lexer": "ipython3",
   "version": "3.8.5"
  }
 },
 "nbformat": 4,
 "nbformat_minor": 4
}
